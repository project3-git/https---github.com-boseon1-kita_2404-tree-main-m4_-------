{
 "cells": [
  {
   "cell_type": "code",
   "execution_count": 6,
   "metadata": {},
   "outputs": [],
   "source": [
    "import pymysql\n",
    "\n",
    "# 데이터베이스 연결\n",
    "connection = pymysql.connect(\n",
    "    host='localhost',\n",
    "    user='bs',\n",
    "    password='bs',\n",
    "    database='bs_db'\n",
    ")\n",
    "\n",
    "cursor = connection.cursor()"
   ]
  },
  {
   "cell_type": "code",
   "execution_count": 7,
   "metadata": {},
   "outputs": [],
   "source": [
    "# 테이블 생성\n",
    "create_table_query = \"\"\"\n",
    "    CREATE TABLE IF NOT EXISTS customer(\n",
    "        id INT AUTO_INCREMENT PRIMARY KEY,    \n",
    "        username VARCHAR(50) NOT NULL,\n",
    "        email VARCHAR(100) NOT NULL,\n",
    "        age INT\n",
    "    )\n",
    "\"\"\"\n",
    "\n",
    "cursor.execute(create_table_query)\n",
    "connection.commit()"
   ]
  },
  {
   "cell_type": "code",
   "execution_count": 8,
   "metadata": {},
   "outputs": [],
   "source": [
    "# 컬럼 추가\n",
    "# 이 컬럼은 TIMESTAMP 데이터 타입을 가지며, 기본값으로 현재 타임스탬프(CURRENT_TIMESTAMP가 설정. 즉, 새로운 레코드가 삽입될 때 자동으로 현재 시간이 기록됩니다.)\n",
    "alter_table_query = \"ALTER TABLE customer ADD COLUMN created_at TIMESTAMP DEFAULT CURRENT_TIMESTAMP\"\n",
    "cursor.execute(alter_table_query)\n",
    "connection.commit()"
   ]
  },
  {
   "cell_type": "code",
   "execution_count": 9,
   "metadata": {},
   "outputs": [],
   "source": [
    "# email 컬럼에 NOT NULL 제약조건 제외\n",
    "alter_table_query = \"ALTER TABLE customer MODIFY email VARCHAR(100)\"\n",
    "cursor.execute(alter_table_query)\n",
    "connection.commit()"
   ]
  },
  {
   "cell_type": "code",
   "execution_count": 5,
   "metadata": {},
   "outputs": [],
   "source": [
    "# 테이블 삭제\n",
    "drop_table_query = \"DROP TABLE IF EXISTS customer\"\n",
    "cursor.execute(drop_table_query)\n",
    "connection.commit()"
   ]
  },
  {
   "cell_type": "code",
   "execution_count": 10,
   "metadata": {},
   "outputs": [],
   "source": [
    "# 데이터 입력\n",
    "# %s는 mysql.connector 모듈에서 사용되는 플레이스홀더입니다. 이 플레이스 홀더는 데이터를 삽입할 때 사용됩니다.(sqlight ?)\n",
    "insert_query = \"INSERT INTO customer (username, email, age) VALUES (%s, %s, %s)\"\n",
    "data = (\"john_doe\", \"john@example.com\", 30)\n",
    "cursor.execute(insert_query,data)\n",
    "connection.commit()"
   ]
  },
  {
   "cell_type": "code",
   "execution_count": 17,
   "metadata": {},
   "outputs": [
    {
     "name": "stdout",
     "output_type": "stream",
     "text": [
      "(2, 'alice', 'alice@example.com', 25, datetime.datetime(2024, 7, 15, 12, 19, 24))\n",
      "(3, 'bob', 'bob@example.com', 28, datetime.datetime(2024, 7, 15, 12, 19, 24))\n",
      "(4, 'charlie', 'charlie@example.com', 22, datetime.datetime(2024, 7, 15, 12, 19, 24))\n"
     ]
    }
   ],
   "source": [
    "# 데이터 조회\n",
    "select_query = \"SELECT * FROM customer\"\n",
    "cursor.execute(select_query)\n",
    "results = cursor.fetchall()\n",
    "for row in results :\n",
    "    print(row)"
   ]
  },
  {
   "cell_type": "code",
   "execution_count": null,
   "metadata": {},
   "outputs": [],
   "source": [
    "# 연결 종료\n",
    "cursor.close()\n",
    "connection.close()"
   ]
  },
  {
   "cell_type": "code",
   "execution_count": 12,
   "metadata": {},
   "outputs": [],
   "source": [
    "# 데이터 수정\n",
    "update_query = \"UPDATE customer SET age = %s WHERE username = %s\"\n",
    "cursor.execute(update_query, (31, \"john_doe\"))\n",
    "connection.commit()"
   ]
  },
  {
   "cell_type": "code",
   "execution_count": 13,
   "metadata": {},
   "outputs": [],
   "source": [
    "# 데이터 삭제\n",
    "delete_query = \"DELETE FROM customer WHERE username=%s\"\n",
    "cursor.execute(delete_query,'john_doe')\n",
    "connection.commit()"
   ]
  },
  {
   "cell_type": "code",
   "execution_count": 15,
   "metadata": {},
   "outputs": [],
   "source": [
    "# 데이터 반복 삽입 (각 항목은 리스트나 튜플과 같은 순서가 있는 데이터 구조이어야 합니다.)\n",
    "customers = [\n",
    "    (\"alice\",\"alice@example.com\",25),\n",
    "    (\"bob\",\"bob@example.com\",28),\n",
    "    (\"charlie\",\"charlie@example.com\",22)\n",
    "]\n",
    "\n",
    "cursor.executemany(insert_query,customers)\n",
    "connection.commit()"
   ]
  },
  {
   "cell_type": "code",
   "execution_count": 18,
   "metadata": {},
   "outputs": [
    {
     "name": "stdout",
     "output_type": "stream",
     "text": [
      "   id username                email  age          created_at\n",
      "0   2    alice    alice@example.com   25 2024-07-15 12:19:24\n",
      "1   3      bob      bob@example.com   28 2024-07-15 12:19:24\n",
      "2   4  charlie  charlie@example.com   22 2024-07-15 12:19:24\n"
     ]
    }
   ],
   "source": [
    "# 데이터 조회 결과를 DataFrame으로 변환\n",
    "import pandas as pd\n",
    "\n",
    "# 컬럼 이름 가져오기\n",
    "column_names = [desc[0] for desc in cursor.description]\n",
    "\n",
    "# DataFrame으로 변환\n",
    "df = pd.DataFrame(results, columns=column_names)\n",
    "\n",
    "print(df)"
   ]
  },
  {
   "cell_type": "code",
   "execution_count": 19,
   "metadata": {},
   "outputs": [],
   "source": [
    "# DataFrame를 CSV파일로 변환\n",
    "df.to_csv('customers.csv', index=False)"
   ]
  },
  {
   "cell_type": "code",
   "execution_count": 20,
   "metadata": {},
   "outputs": [],
   "source": [
    "# buyer 테이블 생성\n",
    "create_table_query = \"\"\"\n",
    "    CREATE TABLE IF NOT EXISTS buyer (\n",
    "        id INT AUTO_INCREMENT PRIMARY KEY,\n",
    "        username VARCHAR(50) NOT NULL,\n",
    "        email VARCHAR(100) NOT NULL,\n",
    "        age INT\n",
    "    )\n",
    "\"\"\"\n",
    "\n",
    "cursor.execute(create_table_query)\n",
    "connection.commit()"
   ]
  },
  {
   "cell_type": "code",
   "execution_count": 22,
   "metadata": {},
   "outputs": [],
   "source": [
    "# CSV 파일 읽어서 데이터베이스에 삽입\n",
    "import csv\n",
    "\n",
    "# CSV 파일 읽기 \n",
    "file_path = 'customers.csv'\n",
    "df = pd.read_csv(file_path)\n",
    "\n",
    "# 필요한 컬럼만 선택\n",
    "data_to_insert = df[['username','email','age']].values.tolist()\n",
    "\n",
    "# SQL 쿼리 정의\n",
    "insert_query = \"INSERT INTO buyer (username, email, age) VALUES (%s, %s, %s)\"   \n",
    "\n",
    "# 데이터베이스에 삽입\n",
    "cursor.executemany(insert_query,data_to_insert)\n",
    "connection.commit()"
   ]
  },
  {
   "cell_type": "code",
   "execution_count": null,
   "metadata": {},
   "outputs": [],
   "source": [
    "# 데이터 조회 및 DataFrame 변환\n",
    "select_query = \"SELECT * FROM buyer\"\n"
   ]
  }
 ],
 "metadata": {
  "kernelspec": {
   "display_name": "myenv",
   "language": "python",
   "name": "python3"
  },
  "language_info": {
   "codemirror_mode": {
    "name": "ipython",
    "version": 3
   },
   "file_extension": ".py",
   "mimetype": "text/x-python",
   "name": "python",
   "nbconvert_exporter": "python",
   "pygments_lexer": "ipython3",
   "version": "3.10.11"
  }
 },
 "nbformat": 4,
 "nbformat_minor": 2
}
